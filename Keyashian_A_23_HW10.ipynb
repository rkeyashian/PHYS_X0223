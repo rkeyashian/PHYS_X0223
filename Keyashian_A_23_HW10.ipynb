{
 "cells": [
  {
   "cell_type": "markdown",
   "metadata": {},
   "source": [
    "# Phyiscs Problems - Lectures 22 & 23 - Homework 10\n",
    "\n",
    "FALL 2024\n"
   ]
  },
  {
   "cell_type": "markdown",
   "metadata": {},
   "source": [
    "### 1) Altitude of a satellite\n",
    "\n",
    "A satellite is to be launched into a circular orbit around the Earth so that it orbits the planet once every T seconds.\n",
    "\n",
    "The altitude h above the Earth’s surface that the satellite must have is:\n",
    "\n",
    "$$h = \\left( \\frac{G M T^2}{4\\pi^2} \\right)^{1/3} - R$$\n",
    "\n",
    "where $G = 6.67 \\times 10^{-11}$ m$^3$ kg$^{-1}$ s$^{-2}$\n",
    "is Newton's gravitational constant, $M = 5.97 \\times 10^{24}$ kg is the mass of the Earth, and $R = 6371$ km is its radius.\n",
    "\n",
    "#### Write a function that asks the user to enter the desired value of T and then calculates and prints out the correct altitude in meters.\n"
   ]
  },
  {
   "cell_type": "code",
   "execution_count": 50,
   "metadata": {},
   "outputs": [
    {
     "name": "stdin",
     "output_type": "stream",
     "text": [
      "Enter desired value of T 2592000\n"
     ]
    },
    {
     "name": "stdout",
     "output_type": "stream",
     "text": [
      "The altiude is 401325335.1979237 meters\n"
     ]
    }
   ],
   "source": [
    "import math\n",
    "\n",
    "G = 6.67*(10**(-11))\n",
    "M = 5.97*(10**(24))\n",
    "R = 6371000\n",
    "T = int(input(\"Enter desired value of T\"))\n",
    "\n",
    "def altitude(T):    \n",
    "    h = (((G*M*(T**2)/(4*(math.pi)**2)))**(1/3))-R\n",
    "    return h\n",
    "\n",
    "x = altitude(T)\n",
    "\n",
    "print(\"The altiude is\", x, \"meters\")\n"
   ]
  },
  {
   "cell_type": "markdown",
   "metadata": {},
   "source": [
    "Use your program to calculate the altitudes of satellites that orbit the Earth once\n",
    "a day (so-called “geosynchronous” orbit), once every 90 minutes, and once every\n",
    "45 minutes. What do you conclude from the last of these calculations?\n",
    "\n",
    "\n",
    "\n"
   ]
  },
  {
   "cell_type": "code",
   "execution_count": 26,
   "metadata": {},
   "outputs": [
    {
     "name": "stdout",
     "output_type": "stream",
     "text": [
      "24 hours: Altitude = 35855910.17617497 ; 90 min: Altitude = 279321.62537285965 ;  45 min: Altitude = -2181559.8978108233\n",
      "in conclusion, the smaller the altitude, the faster it spins around the earth\n"
     ]
    }
   ],
   "source": [
    "import math\n",
    "\n",
    "G = 6.67*(10**(-11))\n",
    "M = 5.97*(10**(24))\n",
    "R = 6371000\n",
    "\n",
    "geosync = 86400\n",
    "hourhalf = 5400\n",
    "min45 = 2700\n",
    "\n",
    "def altitude(geosync):\n",
    "    h = (((G*M*(geosync**2)/(4*(math.pi)**2)))**(1/3))-R\n",
    "    return h\n",
    "\n",
    "def altitude(hourhalf):\n",
    "    h = (((G*M*(hourhalf**2)/(4*(math.pi)**2)))**(1/3))-R\n",
    "    return h\n",
    "\n",
    "def altitude(min45):\n",
    "    h = (((G*M*(min45**2)/(4*(math.pi)**2)))**(1/3))-R\n",
    "    return h\n",
    "\n",
    "print(\"24 hours: Altitude =\",altitude(geosync), \"; 90 min: Altitude =\",altitude(hourhalf),\n",
    "      \";  45 min: Altitude =\",altitude(min45))\n",
    "\n",
    "print(\"in conclusion, the smaller the altitude, the faster it spins around the earth\")"
   ]
  },
  {
   "cell_type": "markdown",
   "metadata": {},
   "source": [
    "Technically a geosynchronous satellite is one that orbits the Earth once persidereal\n",
    "day, which is 23.93 hours, not 24 hours. Why is this? And how much difference\n",
    "will it make to the altitude of the satellite?"
   ]
  },
  {
   "cell_type": "code",
   "execution_count": 44,
   "metadata": {},
   "outputs": [
    {
     "name": "stdout",
     "output_type": "stream",
     "text": [
      "24 hours: Altitude = 35855910.17617497 ; Persidereal: Altitude = 35773762.329895645\n",
      "the differnce between the two is 82147.8462793231 meters. This difference is caused due to the rotation of the earth around the sun.\n"
     ]
    }
   ],
   "source": [
    "persidereal = 86148\n",
    "geosync = 86400\n",
    "\n",
    "def altitude(geosync):\n",
    "    h = (((G*M*(geosync**2)/(4*(math.pi)**2)))**(1/3))-R\n",
    "    return h\n",
    "\n",
    "def altitude(persidereal):\n",
    "    h = (((G*M*(persidereal**2)/(4*(math.pi)**2)))**(1/3))-R\n",
    "    return h\n",
    "\n",
    "print(\"24 hours: Altitude =\",altitude(geosync), \"; Persidereal: Altitude =\",altitude(persidereal))\n",
    "\n",
    "D = altitude(geosync)-altitude(persidereal)\n",
    "\n",
    "print(\"the differnce between the two is\", D ,\"meters. This difference is caused due to the rotation of the earth around the sun.\")"
   ]
  },
  {
   "cell_type": "markdown",
   "metadata": {},
   "source": [
    "#### Modify your code to calculate the times from 0.5 hour  to 30 days, in steps of 0.5 hours.   Then plot those data points (time vs h) with properly labled axes.  Plot orbits with height below 0 as red, and plots positive heeghts with times less than geosynchronous in blue and those longer in green."
   ]
  },
  {
   "cell_type": "code",
   "execution_count": 52,
   "metadata": {},
   "outputs": [
    {
     "data": {
      "text/plain": [
       "[<matplotlib.lines.Line2D at 0x2bb57316270>]"
      ]
     },
     "execution_count": 52,
     "metadata": {},
     "output_type": "execute_result"
    },
    {
     "data": {
      "image/png": "[encoded data removed]",
      "text/plain": [
       "<Figure size 1200x600 with 1 Axes>"
      ]
     },
     "metadata": {},
     "output_type": "display_data"
    }
   ],
   "source": [
    "import numpy as np\n",
    "import matplotlib.pyplot as plt\n",
    "\n",
    "G = 6.67*(10**(-11))\n",
    "M = 5.97*(10**(24))\n",
    "R = 6371000\n",
    "\n",
    "x = np.arange(0.5,720.5,0.5)\n",
    "y = (((G*M*((x*3600)**2)/(4*(math.pi)**2)))**(1/3))-R #converted from hours to seconds using (X*3600) \n",
    "\n",
    "plt.figure(figsize=(12,6))\n",
    "\n",
    "plt.plot(x[y<0],y[y<0], 'r', label='altitude <0') #criteria for red\n",
    "plt.plot(x[(y>0) & (y<23.93)],y[(y>0) & (y<23.93)], 'b', label='above zero and less than geosynchronous') #criteria for blue\n",
    "plt.plot(x[(y>23.93)],y[(y>23.93)], 'g', label='greater than geosynchronous') #criteria for green"
   ]
  },
  {
   "cell_type": "markdown",
   "metadata": {},
   "source": [
    "### 2) Special Relativity\n",
    "\n",
    "A spaceship travels from Earth in a straight line at a (relativistic)\n",
    "speed $v$ to another planet $x$ light years away. Write a program to ask\n",
    "the user for the value of $x$ and the speed $v$ as a fraction of the speed\n",
    "of light, then print out the time in years that the spaceship takes to\n",
    "reach its destination (a) in the rest frame of an observer on Earth\n",
    "and (b) as perceived by a passenger on board the ship.\n",
    "\n",
    "$$x' = \\gamma (x - vt)$$\n",
    "\n",
    "$$t' = \\gamma \\left(t - \\frac{v x}{c^2}\\right)$$\n",
    "\n",
    "$$\\gamma = \\frac{1}{\\sqrt{1 - \\frac{v^2}{c^2}}}$$\n"
   ]
  },
  {
   "cell_type": "code",
   "execution_count": 78,
   "metadata": {},
   "outputs": [
    {
     "name": "stdin",
     "output_type": "stream",
     "text": [
      "Provide distance to plant in light years: 10\n",
      "Provide fraction of speed of light traveling in decimals: .999\n"
     ]
    },
    {
     "name": "stdout",
     "output_type": "stream",
     "text": [
      "In the rest frame of an observer on Earth, this trip will last 10.01001001001001 years\n",
      "As perceived by a passenger on board the ship, this trip will last 0.4475493274496098 years\n"
     ]
    }
   ],
   "source": [
    "\n",
    "d = int(input(\"Provide distance to plant in light years:\"))\n",
    "v = float(input(\"Provide fraction of speed of light traveling in decimals:\"))\n",
    "\n",
    "Gamma = 1/ ((1-v**2)**(1/2))\n",
    "\n",
    "#print(Gamma)\n",
    "\n",
    "t_earth = d/v\n",
    "t_spaceship = t_earth/Gamma\n",
    "\n",
    "print(\"In the rest frame of an observer on Earth, this trip will last\", t_earth, \"years\")\n",
    "print(\"As perceived by a passenger on board the ship, this trip will last\", t_spaceship, \"years\")"
   ]
  },
  {
   "cell_type": "markdown",
   "metadata": {},
   "source": [
    "#### Use your program to calculate the answers for a planet 10 light years away with $v = 0.90c$,  $v = 0.98c$, $v = 0.999c$."
   ]
  },
  {
   "cell_type": "code",
   "execution_count": 76,
   "metadata": {},
   "outputs": [
    {
     "name": "stdout",
     "output_type": "stream",
     "text": [
      "Traveling at 90% the speed of light will last 11.11111111111111 years on earth, and 4.843221048378525 years on the spaceship.\n",
      "Traveling at 98% the speed of light will last 10.204081632653061 years on earth, and 2.030586606340043 years on the spaceship.\n",
      "Traveling at 99.9% the speed of light will last 10.01001001001001 years on earth, and 0.4475493274496098 years on the spaceship.\n"
     ]
    }
   ],
   "source": [
    "d = 10\n",
    "v1 = 0.9\n",
    "v2 = 0.98\n",
    "v3 = 0.999\n",
    "\n",
    "Gamma1 = 1/ ((1-v1**2)**(1/2))\n",
    "Gamma2 = 1/ ((1-v2**2)**(1/2))\n",
    "Gamma3 = 1/ ((1-v3**2)**(1/2))\n",
    "\n",
    "te1 = d/v1\n",
    "te2 = d/v2\n",
    "te3 = d/v3\n",
    "\n",
    "ts1 = te1 / Gamma1\n",
    "ts2 = te2 / Gamma2\n",
    "ts3 = te3 / Gamma3\n",
    "\n",
    "\n",
    "print(\"Traveling at 90% the speed of light will last\", te1, \"years on earth, and\", ts1, \"years on the spaceship.\")\n",
    "print(\"Traveling at 98% the speed of light will last\", te2, \"years on earth, and\", ts2, \"years on the spaceship.\")\n",
    "print(\"Traveling at 99.9% the speed of light will last\", te3, \"years on earth, and\", ts3, \"years on the spaceship.\")"
   ]
  },
  {
   "cell_type": "markdown",
   "metadata": {},
   "source": [
    "### 3) The quadratic equation\n",
    "\n",
    " Write a program that takes as input three numbers, $a$, $b$, and $c$, and prints out the two solutions to the quadratic equation $ax^2 + bx + c = 0$ using the standard\n",
    "formula:\n",
    "\n",
    "$$x = \\frac{-b \\pm \\sqrt{b^2 - 4ac}}{2a}$$\n",
    "\n",
    "Use your program to compute the solutions of $0.001x^2 + 1000x + 0.001 = 0$."
   ]
  },
  {
   "cell_type": "code",
   "execution_count": 90,
   "metadata": {},
   "outputs": [
    {
     "name": "stdin",
     "output_type": "stream",
     "text": [
      "Provide a of quadratic equation (ie. ax^2 + bx + c = 0): .001\n",
      "Provide b of quadratic equation (ie. ax^2 + bx + c = 0): 1000\n",
      "Provide c of quadratic equation (ie. ax^2 + bx + c = 0): .001\n"
     ]
    },
    {
     "name": "stdout",
     "output_type": "stream",
     "text": [
      "Your solutions are -9.999894245993346e-07 and -999999.999999\n"
     ]
    }
   ],
   "source": [
    "a = float(input(\"Provide a of quadratic equation (ie. ax^2 + bx + c = 0):\"))\n",
    "b = float(input(\"Provide b of quadratic equation (ie. ax^2 + bx + c = 0):\"))\n",
    "c = float(input(\"Provide c of quadratic equation (ie. ax^2 + bx + c = 0):\"))\n",
    "\n",
    "x1 = (-b + (((b**2) - 4*a*c)**(1/2)) )/(2*a)\n",
    "x2 = (-b - (((b**2) - 4*a*c)**(1/2)) )/(2*a)\n",
    "\n",
    "print(\"Your solutions are\", x1, \"and\", x2)"
   ]
  },
  {
   "cell_type": "code",
   "execution_count": null,
   "metadata": {},
   "outputs": [],
   "source": [
    "a = float(input(\"Provide a of quadratic equation (ie. ax^2 + bx + c = 0):\"))\n",
    "b = float(input(\"Provide b of quadratic equation (ie. ax^2 + bx + c = 0):\"))\n",
    "c = float(input(\"Provide c of quadratic equation (ie. ax^2 + bx + c = 0):\"))\n",
    "\n",
    "x1 = (-b + (((b**2) - 4*a*c)**(1/2)) )/(2*a)\n",
    "x2 = (-b - (((b**2) - 4*a*c)**(1/2)) )/(2*a)\n",
    "\n",
    "print(\"Your solutions are\", x1, \"and\", x2)"
   ]
  },
  {
   "cell_type": "markdown",
   "metadata": {},
   "source": [
    "There is another way to write the solutions to a quadratic equation. Multiplying top and bottom of the solution above by $-b \\mp \\sqrt{b^2 - 4ac}$, show that the solutions\n",
    "can also be written as:\n",
    "\n",
    "$$x = \\frac{2c}{-b \\mp \\sqrt{b^2 - 4ac}}$$\n",
    "\n",
    "Add further lines to your program to print these values in addition to the earlier ones and again use the program to solve $0.001x^2 + 1000x + 0.001 = 0$. What do you see? How do you explain it?"
   ]
  },
  {
   "cell_type": "code",
   "execution_count": 92,
   "metadata": {},
   "outputs": [
    {
     "name": "stdin",
     "output_type": "stream",
     "text": [
      "Provide a of quadratic equation (ie. ax^2 + bx + c = 0): .001\n",
      "Provide b of quadratic equation (ie. ax^2 + bx + c = 0): 1000\n",
      "Provide c of quadratic equation (ie. ax^2 + bx + c = 0): .001\n"
     ]
    },
    {
     "name": "stdout",
     "output_type": "stream",
     "text": [
      "Your solutions are -1.000000000001e-06 and -1000010.5755125057\n"
     ]
    }
   ],
   "source": [
    "a = float(input(\"Provide a of quadratic equation (ie. ax^2 + bx + c = 0):\"))\n",
    "b = float(input(\"Provide b of quadratic equation (ie. ax^2 + bx + c = 0):\"))\n",
    "c = float(input(\"Provide c of quadratic equation (ie. ax^2 + bx + c = 0):\"))\n",
    "\n",
    "x1 = (2*c)/(-b - (((b**2)-4*a*c)**(1/2)))\n",
    "x2 = (2*c)/(-b + (((b**2)-4*a*c)**(1/2)))\n",
    "\n",
    "print(\"Your solutions are\", x1, \"and\", x2)"
   ]
  },
  {
   "cell_type": "markdown",
   "metadata": {},
   "source": [
    "Using what you have learned, write a new program that calculates both roots of a quadratic equation accurately in all cases. \n",
    "\n",
    "__(NOTE: MANY Online quadratic equation are WRONG, so careful how you check!!!).__"
   ]
  }
 ],
 "metadata": {
  "kernelspec": {
   "display_name": "Python 3 (ipykernel)",
   "language": "python",
   "name": "python3"
  },
  "language_info": {
   "codemirror_mode": {
    "name": "ipython",
    "version": 3
   },
   "file_extension": ".py",
   "mimetype": "text/x-python",
   "name": "python",
   "nbconvert_exporter": "python",
   "pygments_lexer": "ipython3",
   "version": "3.12.4"
  }
 },
 "nbformat": 4,
 "nbformat_minor": 4
}
